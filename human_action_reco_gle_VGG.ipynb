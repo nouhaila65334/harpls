{
  "nbformat": 4,
  "nbformat_minor": 0,
  "metadata": {
    "colab": {
      "provenance": [],
      "private_outputs": true
    },
    "kernelspec": {
      "name": "python3",
      "display_name": "Python 3"
    },
    "language_info": {
      "name": "python"
    },
    "accelerator": "GPU",
    "gpuClass": "standard"
  },
  "cells": [
    {
      "cell_type": "code",
      "source": [
        "!pip install tensorflow-addons"
      ],
      "metadata": {
        "id": "Iw2QMV_WXBIs"
      },
      "execution_count": null,
      "outputs": []
    },
    {
      "cell_type": "code",
      "execution_count": null,
      "metadata": {
        "id": "_Yi-jf_1WaR8"
      },
      "outputs": [],
      "source": [
        "import os\n",
        "import glob\n",
        "import random\n",
        "import numpy as np\n",
        "import pandas as pd\n",
        "\n",
        "import tensorflow_addons as tfa\n",
        "import tensorflow as tf\n",
        "from tensorflow import keras\n",
        "from keras import layers\n",
        "from keras.models import Sequential\n",
        "from keras.layers import Conv2D,MaxPooling2D,Activation, Dropout, Flatten, Dense\n",
        "from keras.preprocessing.image import ImageDataGenerator\n",
        "from tqdm import tqdm\n",
        "\n",
        "from PIL import Image\n",
        "\n",
        "from tensorflow.keras.utils import to_categorical\n",
        "\n",
        "import seaborn as sns\n",
        "import matplotlib.image as img\n",
        "import matplotlib.pyplot as plt"
      ]
    },
    {
      "cell_type": "code",
      "source": [
        "#To check if i am working on my gpu\n",
        "gpus = tf.config.experimental.list_physical_devices('GPU')\n",
        "for gpu in gpus: \n",
        "    tf.config.experimental.set_memory_growth(gpu, True)\n",
        "print(tf.config.list_physical_devices('GPU'))"
      ],
      "metadata": {
        "id": "Yad0RIqSqx0A"
      },
      "execution_count": null,
      "outputs": []
    },
    {
      "cell_type": "code",
      "source": [
        "#load the drive helper and mount\n",
        "from google.colab import drive\n",
        "drive.mount('/content/drive')"
      ],
      "metadata": {
        "id": "E9Qb9A_CXH4U"
      },
      "execution_count": null,
      "outputs": []
    },
    {
      "cell_type": "code",
      "source": [
        "file_Training_path = '/content/drive/MyDrive/humanactionreco/Training_set.csv'\n",
        "train_csv = pd.read_csv(file_Training_path)\n",
        "train_csv.head()"
      ],
      "metadata": {
        "id": "yUYfU9piXSrA"
      },
      "execution_count": null,
      "outputs": []
    },
    {
      "cell_type": "code",
      "source": [
        "file_Testing_path = '/content/drive/MyDrive/humanactionreco/Testing_set.csv'\n",
        "test_csv = pd.read_csv(file_Testing_path)\n",
        "test_csv.head()"
      ],
      "metadata": {
        "id": "b-X2MAdnX4lM"
      },
      "execution_count": null,
      "outputs": []
    },
    {
      "cell_type": "code",
      "source": [
        "train_fol = glob.glob(\"/content/drive/MyDrive/humanactionreco/train/*\") \n",
        "test_fol = glob.glob(\"/content/drive/MyDrive/humanactionreco/test/*\")"
      ],
      "metadata": {
        "id": "qkphPHZuYjCi"
      },
      "execution_count": null,
      "outputs": []
    },
    {
      "cell_type": "code",
      "source": [
        "train_csv"
      ],
      "metadata": {
        "id": "QWdh1YuqY6g4"
      },
      "execution_count": null,
      "outputs": []
    },
    {
      "cell_type": "code",
      "source": [
        "train_csv.label.value_counts()"
      ],
      "metadata": {
        "id": "2xMJbSkSY-dy"
      },
      "execution_count": null,
      "outputs": []
    },
    {
      "cell_type": "code",
      "source": [
        "import plotly.express as px\n",
        "l = train_csv.label.value_counts()\n",
        "fig = px.pie(train_csv, values=l.values, names=l.index, title='Distribution of Human Activity')\n",
        "fig.show()"
      ],
      "metadata": {
        "id": "4iiTrHYIZJ-_"
      },
      "execution_count": null,
      "outputs": []
    },
    {
      "cell_type": "code",
      "source": [
        "filename = train_csv['filename']\n",
        "situation = train_csv['label']"
      ],
      "metadata": {
        "id": "msY-dHwYZPVB"
      },
      "execution_count": null,
      "outputs": []
    },
    {
      "cell_type": "code",
      "source": [
        "filename"
      ],
      "metadata": {
        "id": "XfUt7g_-ZTw_"
      },
      "execution_count": null,
      "outputs": []
    },
    {
      "cell_type": "code",
      "source": [
        "situation"
      ],
      "metadata": {
        "id": "1KMoTWGYZXUQ"
      },
      "execution_count": null,
      "outputs": []
    },
    {
      "cell_type": "code",
      "source": [
        "import os\n",
        "import random\n",
        "from PIL import Image\n",
        "import matplotlib.pyplot as plt\n",
        "\n",
        "train_dir = \"/content/drive/MyDrive/humanactionreco/train/\"\n",
        "train_csv_path = \"/content/drive/MyDrive/humanactionreco/Training_set.csv\"\n",
        "\n",
        "# Load the train CSV file\n",
        "train_csv = pd.read_csv(train_csv_path)\n",
        "\n",
        "def disp():\n",
        "    num = random.randint(1,100)\n",
        "    imgg = \"Image_{}.jpg\".format(num)\n",
        "    img_path = os.path.join(train_dir, imgg)\n",
        "    if os.path.exists(img_path):\n",
        "        try:\n",
        "            testImage = Image.open(img_path)\n",
        "            plt.imshow(testImage)\n",
        "            label = train_csv.loc[train_csv['filename'] == imgg, 'label'].item()\n",
        "            plt.title(\"{}\".format(label))\n",
        "            print(\"Opened image file: {}\".format(img_path))\n",
        "        except Exception as e:\n",
        "            print(\"Error opening image file: {}\".format(e))\n",
        "    else:\n",
        "        print(\"File not found: {}\".format(img_path))\n",
        "\n",
        "# Test the function\n",
        "disp()"
      ],
      "metadata": {
        "id": "Ez5YT_5sZb9Q"
      },
      "execution_count": null,
      "outputs": []
    },
    {
      "cell_type": "markdown",
      "source": [
        "Processing Data"
      ],
      "metadata": {
        "id": "QuwzOXIu9NoM"
      }
    },
    {
      "cell_type": "code",
      "source": [
        "train_fol = ['/content/drive/MyDrive/humanactionreco/train/'] # list of paths to training directories\n",
        "\n",
        "# Initialize empty lists to hold image data and labels\n",
        "img_data = []\n",
        "img_label = []\n",
        "\n",
        "# Loop through each training directory and load images\n",
        "for fol in train_fol:\n",
        "    for filename in os.listdir(fol):\n",
        "        # Load the image and resize it\n",
        "        img_path = os.path.join(fol, filename)\n",
        "        img = Image.open(img_path)\n",
        "        img = img.resize((160, 160))\n",
        "        # Convert the image to a numpy array and add it to img_data\n",
        "        img_data.append(np.array(img))\n",
        "        # Get the label for the image and add it to img_label\n",
        "        if filename[0].isdigit():\n",
        "           label = situation[int(filename[0])-1]\n",
        "        else:\n",
        "           label = None # or some default label\n",
        "        img_label.append(label)\n"
      ],
      "metadata": {
        "id": "krJ1gDhHGHip"
      },
      "execution_count": null,
      "outputs": []
    },
    {
      "cell_type": "code",
      "source": [
        "inp_shape = (160,160,3)"
      ],
      "metadata": {
        "id": "0LWfFBJRfCzq"
      },
      "execution_count": null,
      "outputs": []
    },
    {
      "cell_type": "code",
      "source": [
        "y_train = to_categorical(np.asarray(train_csv['label'].factorize()[0]))\n",
        "print(y_train[0])"
      ],
      "metadata": {
        "id": "BamHWJzQ2_Ku"
      },
      "execution_count": null,
      "outputs": []
    },
    {
      "cell_type": "code",
      "source": [
        "print(len(y_train))"
      ],
      "metadata": {
        "id": "xZO4GQpzG7ns"
      },
      "execution_count": null,
      "outputs": []
    },
    {
      "cell_type": "code",
      "source": [
        "iii = img_data\n",
        "iii = np.asarray(iii)\n",
        "type(iii)"
      ],
      "metadata": {
        "id": "6mcuDlD031N5"
      },
      "execution_count": null,
      "outputs": []
    },
    {
      "cell_type": "code",
      "source": [
        "iii = iii[:len(y_train)]"
      ],
      "metadata": {
        "id": "fvOmvIVAHBpz"
      },
      "execution_count": null,
      "outputs": []
    },
    {
      "cell_type": "code",
      "source": [
        "vgg_model = Sequential()\n",
        "\n",
        "pretrained_model= tf.keras.applications.VGG16(include_top=False,\n",
        "                   input_shape=(160,160,3),\n",
        "                   pooling='avg',classes=15,\n",
        "                   weights='imagenet')\n",
        "\n",
        "for layer in pretrained_model.layers:\n",
        "        layer.trainable=False\n",
        "\n",
        "vgg_model.add(pretrained_model)\n",
        "vgg_model.add(Flatten())\n",
        "vgg_model.add(Dense(512, activation='relu'))\n",
        "vgg_model.add(Dense(15, activation='softmax'))"
      ],
      "metadata": {
        "id": "8tq-ZJ12jW5u"
      },
      "execution_count": null,
      "outputs": []
    },
    {
      "cell_type": "code",
      "source": [
        "vgg_model.compile(optimizer='adam', loss='categorical_crossentropy',metrics=['accuracy'])"
      ],
      "metadata": {
        "id": "dQWUILnNWZaX"
      },
      "execution_count": null,
      "outputs": []
    },
    {
      "cell_type": "code",
      "source": [
        "vgg_model.summary()"
      ],
      "metadata": {
        "id": "EfKdAuwFWdRj"
      },
      "execution_count": null,
      "outputs": []
    },
    {
      "cell_type": "code",
      "source": [
        "history = vgg_model.fit(iii,y_train, epochs=60)"
      ],
      "metadata": {
        "id": "ym6T0AQjWiHj"
      },
      "execution_count": null,
      "outputs": []
    },
    {
      "cell_type": "code",
      "source": [
        "losss = history.history['loss']\n",
        "plt.plot(losss)"
      ],
      "metadata": {
        "id": "F6PL0XYP3Fuf"
      },
      "execution_count": null,
      "outputs": []
    },
    {
      "cell_type": "code",
      "source": [
        "accu = history.history['accuracy']\n",
        "plt.plot(accu)"
      ],
      "metadata": {
        "id": "hqrwCxf87Yn6"
      },
      "execution_count": null,
      "outputs": []
    },
    {
      "cell_type": "code",
      "source": [
        "#testing\n",
        "# Function to read images as array\n",
        "\n",
        "def read_image(fn):\n",
        "    image = Image.open(fn)\n",
        "    return np.asarray(image.resize((160,160)))"
      ],
      "metadata": {
        "id": "FAr09jDw7bLb"
      },
      "execution_count": null,
      "outputs": []
    },
    {
      "cell_type": "code",
      "source": [
        "!pip install opencv-python-headless"
      ],
      "metadata": {
        "id": "1ztSEIkaC76B"
      },
      "execution_count": null,
      "outputs": []
    },
    {
      "cell_type": "code",
      "source": [
        "import cv2"
      ],
      "metadata": {
        "id": "bYbmM5iPDIvR"
      },
      "execution_count": null,
      "outputs": []
    },
    {
      "cell_type": "code",
      "source": [
        "def test_predict(test_image):\n",
        "    result = vgg_model.predict(np.asarray([read_image(test_image)]))\n",
        "    predicted_class = np.argmax(result)\n",
        "    predicted_class_name = train_csv.label.unique()[predicted_class]\n",
        "    probability = np.max(result) * 100\n",
        "    \n",
        "    print(f\"Probability: {probability:.2f}%\\nPredicted class: {predicted_class_name}\")\n",
        "    \n",
        "    image = cv2.imread(test_image)\n",
        "    image = cv2.cvtColor(image, cv2.COLOR_BGR2RGB)\n",
        "    plt.imshow(image)\n"
      ],
      "metadata": {
        "id": "j0cJ25VJDBs_"
      },
      "execution_count": null,
      "outputs": []
    },
    {
      "cell_type": "code",
      "source": [
        "test_predict('/content/drive/MyDrive/humanactionreco/test/Image_4.jpg')"
      ],
      "metadata": {
        "id": "Xb4LsrkU7nBI"
      },
      "execution_count": null,
      "outputs": []
    }
  ]
}